{
 "cells": [
  {
   "cell_type": "markdown",
   "metadata": {},
   "source": [
    "# You can add alphanumeric value in list , you want to delete a list input delete list are deleted and you want to delete a specific value enter its just index number value is delete"
   ]
  },
  {
   "cell_type": "code",
   "execution_count": 3,
   "metadata": {},
   "outputs": [
    {
     "name": "stdout",
     "output_type": "stream",
     "text": [
      "Add Any Thing :  waleed\n",
      "['waleed']\n",
      "Add Any Thing :  Asad\n",
      "['waleed', 'Asad']\n",
      "Add Any Thing :  Dr Noman\n",
      "['waleed', 'Asad', 'Dr Noman']\n",
      "Add Any Thing :  Ali Mughal\n",
      "['waleed', 'Asad', 'Dr Noman', 'Ali Mughal']\n",
      "Add Any Thing :  Umair\n",
      "['waleed', 'Asad', 'Dr Noman', 'Ali Mughal', 'Umair']\n",
      "Add Any Thing :  Abdullah\n",
      "['waleed', 'Asad', 'Dr Noman', 'Ali Mughal', 'Umair', 'Abdullah']\n",
      "Add Any Thing :  Hamza\n",
      "['waleed', 'Asad', 'Dr Noman', 'Ali Mughal', 'Umair', 'Abdullah', 'Hamza']\n",
      "Add Any Thing :  Ammar\n",
      "['waleed', 'Asad', 'Dr Noman', 'Ali Mughal', 'Umair', 'Abdullah', 'Hamza', 'Ammar']\n",
      "Add Any Thing :  0\n",
      "['Asad', 'Dr Noman', 'Ali Mughal', 'Umair', 'Abdullah', 'Hamza', 'Ammar']\n",
      "Add Any Thing :  5\n",
      "['Asad', 'Dr Noman', 'Ali Mughal', 'Umair', 'Abdullah', 'Ammar']\n",
      "Add Any Thing :  5\n",
      "['Asad', 'Dr Noman', 'Ali Mughal', 'Umair', 'Abdullah']\n",
      "Add Any Thing :  DelEte\n",
      "[]\n"
     ]
    }
   ],
   "source": [
    "adding_list = []\n",
    "adding = \"\"\n",
    "while adding.lower() != \"delete\":\n",
    "    adding = input(\"Add Any Thing :  \")\n",
    "    if adding.lower() != \"delete\" and adding != \"0\" and adding != \"1\" and adding != \"2\" and adding != \"3\" and adding != \"4\"and adding != \"5\" and adding != \"6\" and adding != \"7\" and adding != \"8\" and adding != \"9\":\n",
    "        adding_list.append(adding)\n",
    "        x = adding_list\n",
    "        print(x)\n",
    "    elif adding == \"0\" or adding == \"1\" or adding == \"2\" or adding == \"3\" or adding == \"4\" or adding == \"5\" or adding == \"6\" or adding == \"7\" or adding == \"8\" or adding == \"9\":\n",
    "        del adding_list[int(adding)]\n",
    "        print(x)\n",
    "if adding.lower() == \"delete\":\n",
    "    del adding_list[::]\n",
    "    print(x)\n"
   ]
  },
  {
   "cell_type": "code",
   "execution_count": null,
   "metadata": {},
   "outputs": [],
   "source": [
    "index = []\n",
    "for i in range (0,99):\n",
    "    index.append(str(i))\n",
    "    all_index = index\n",
    "print(all_index)"
   ]
  },
  {
   "cell_type": "code",
   "execution_count": null,
   "metadata": {},
   "outputs": [],
   "source": []
  },
  {
   "cell_type": "code",
   "execution_count": null,
   "metadata": {},
   "outputs": [],
   "source": []
  },
  {
   "cell_type": "code",
   "execution_count": null,
   "metadata": {},
   "outputs": [],
   "source": []
  }
 ],
 "metadata": {
  "kernelspec": {
   "display_name": "Python 3",
   "language": "python",
   "name": "python3"
  },
  "language_info": {
   "codemirror_mode": {
    "name": "ipython",
    "version": 3
   },
   "file_extension": ".py",
   "mimetype": "text/x-python",
   "name": "python",
   "nbconvert_exporter": "python",
   "pygments_lexer": "ipython3",
   "version": "3.7.3"
  }
 },
 "nbformat": 4,
 "nbformat_minor": 2
}
